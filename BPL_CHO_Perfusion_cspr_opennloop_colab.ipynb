{
  "cells": [
    {
      "cell_type": "markdown",
      "metadata": {
        "id": "view-in-github",
        "colab_type": "text"
      },
      "source": [
        "<a href=\"https://colab.research.google.com/github/janpeter19/BPL_CHO_Perfusion_cspr/blob/main/BPL_CHO_Perfusion_cspr_opennloop_colab.ipynb\" target=\"_parent\"><img src=\"https://colab.research.google.com/assets/colab-badge.svg\" alt=\"Open In Colab\"/></a>"
      ]
    },
    {
      "cell_type": "markdown",
      "metadata": {
        "id": "UFcMzs4Y3HwH"
      },
      "source": [
        "# BPL_CHO_Perfusion_cspr_openloop script with PyFMI\n",
        "\n",
        "The key library PyFMI is installed.\n",
        "\n",
        "After the installation a small application BPL_CHO_Pefusion_cspr_openloop is loaded and run. You can continue with this example if you like."
      ]
    },
    {
      "cell_type": "code",
      "execution_count": 1,
      "metadata": {
        "colab": {
          "base_uri": "https://localhost:8080/"
        },
        "id": "ID68dwep2zus",
        "outputId": "7bbb8f46-85e0-4e3c-d517-23eac0c83a8b"
      },
      "outputs": [
        {
          "output_type": "stream",
          "name": "stdout",
          "text": [
            "No LSB modules are available.\n",
            "Distributor ID:\tUbuntu\n",
            "Description:\tUbuntu 22.04.4 LTS\n",
            "Release:\t22.04\n",
            "Codename:\tjammy\n"
          ]
        }
      ],
      "source": [
        "!lsb_release -a # Actual VM Ubuntu version used by Google"
      ]
    },
    {
      "cell_type": "code",
      "execution_count": 2,
      "metadata": {
        "colab": {
          "base_uri": "https://localhost:8080/"
        },
        "id": "pVDcSg-j3SSV",
        "outputId": "580bad5f-84f1-4765-b56b-3112e063a877"
      },
      "outputs": [
        {
          "output_type": "stream",
          "name": "stdout",
          "text": [
            "env: PYTHONPATH=\n"
          ]
        }
      ],
      "source": [
        "%env PYTHONPATH="
      ]
    },
    {
      "cell_type": "code",
      "source": [
        "!python --version"
      ],
      "metadata": {
        "id": "WDJ0YYGmz38t",
        "outputId": "fc698477-d6d9-468d-83cb-cdb681db82dc",
        "colab": {
          "base_uri": "https://localhost:8080/"
        }
      },
      "execution_count": 3,
      "outputs": [
        {
          "output_type": "stream",
          "name": "stdout",
          "text": [
            "Python 3.11.11\n"
          ]
        }
      ]
    },
    {
      "cell_type": "code",
      "execution_count": 4,
      "metadata": {
        "colab": {
          "base_uri": "https://localhost:8080/"
        },
        "id": "04VeBmLU3UFx",
        "outputId": "4afa460b-467c-41ce-804d-e628fe504b62"
      },
      "outputs": [
        {
          "output_type": "stream",
          "name": "stdout",
          "text": [
            "--2025-02-28 19:29:17--  https://repo.anaconda.com/miniconda/Miniconda3-py311_24.11.1-0-Linux-x86_64.sh\n",
            "Resolving repo.anaconda.com (repo.anaconda.com)... 104.16.191.158, 104.16.32.241, 2606:4700::6810:bf9e, ...\n",
            "Connecting to repo.anaconda.com (repo.anaconda.com)|104.16.191.158|:443... connected.\n",
            "HTTP request sent, awaiting response... 200 OK\n",
            "Length: 145900576 (139M) [application/octet-stream]\n",
            "Saving to: ‘Miniconda3-py311_24.11.1-0-Linux-x86_64.sh’\n",
            "\n",
            "Miniconda3-py311_24 100%[===================>] 139.14M   126MB/s    in 1.1s    \n",
            "\n",
            "2025-02-28 19:29:18 (126 MB/s) - ‘Miniconda3-py311_24.11.1-0-Linux-x86_64.sh’ saved [145900576/145900576]\n",
            "\n",
            "PREFIX=/usr/local\n",
            "Unpacking payload ...\n",
            "\n",
            "Installing base environment...\n",
            "\n",
            "Preparing transaction: ...working... done\n",
            "Executing transaction: ...working... done\n",
            "installation finished.\n"
          ]
        }
      ],
      "source": [
        "!wget https://repo.anaconda.com/miniconda/Miniconda3-py311_24.11.1-0-Linux-x86_64.sh\n",
        "!chmod +x Miniconda3-py311_24.11.1-0-Linux-x86_64.sh\n",
        "!bash ./Miniconda3-py311_24.11.1-0-Linux-x86_64.sh -b -f -p /usr/local\n",
        "import sys\n",
        "sys.path.append('/usr/local/lib/python3.11/site-packages/')"
      ]
    },
    {
      "cell_type": "code",
      "execution_count": null,
      "metadata": {
        "colab": {
          "base_uri": "https://localhost:8080/"
        },
        "id": "5iuP4_vl3WFA",
        "outputId": "67dbb13b-aab2-4416-e23c-3a21d4d19a66"
      },
      "outputs": [
        {
          "output_type": "stream",
          "name": "stdout",
          "text": [
            "Channels:\n",
            " - defaults\n",
            "Platform: linux-64\n",
            "Collecting package metadata (repodata.json): - \b\b\\ \b\b| \b\b/ \b\b- \b\b\\ \b\b| \b\b/ \b\b- \b\b\\ \b\b| "
          ]
        }
      ],
      "source": [
        "!conda update -n base -c defaults conda --yes"
      ]
    },
    {
      "cell_type": "code",
      "execution_count": null,
      "metadata": {
        "id": "uoBMBSS63Z58"
      },
      "outputs": [],
      "source": [
        "!conda --version\n",
        "!python --version"
      ]
    },
    {
      "cell_type": "code",
      "source": [
        "!conda config --set channel_priority strict"
      ],
      "metadata": {
        "id": "WFQ0f4hu0J-P"
      },
      "execution_count": null,
      "outputs": []
    },
    {
      "cell_type": "code",
      "execution_count": null,
      "metadata": {
        "id": "RMuJRdfH3dDq"
      },
      "outputs": [],
      "source": [
        "!conda install -c conda-forge pyfmi --yes # Install the key package"
      ]
    },
    {
      "cell_type": "markdown",
      "metadata": {
        "id": "UTETJm3l6heL"
      },
      "source": [
        "# BPL_CHO_Perfusion_cspr_openloop setup\n"
      ]
    },
    {
      "cell_type": "markdown",
      "metadata": {
        "id": "mxILgQ103nZ6"
      },
      "source": [
        "Now specific installation and the run simulations. Start with connecting to Github. Then upload the two files:\n",
        "\n",
        "* FMU - BPL_CHO_Perfusion_cspr_openloop_linux_om_me.fmu\n",
        "* Setup-file - BPL_CHO_Perfusion_cspr_openloop_explore"
      ]
    },
    {
      "cell_type": "code",
      "execution_count": null,
      "metadata": {
        "id": "RrYshFe13jmO"
      },
      "outputs": [],
      "source": [
        "# Filter out DepracationWarnings for 'np.float as alias' is needed - wish I could make filter more narrow\n",
        "import warnings\n",
        "warnings.filterwarnings(\"ignore\")"
      ]
    },
    {
      "cell_type": "code",
      "execution_count": null,
      "metadata": {
        "id": "RfWPh1B63yBF"
      },
      "outputs": [],
      "source": [
        "%%bash\n",
        "git clone https://github.com/janpeter19/BPL_CHO_Perfusion_cspr"
      ]
    },
    {
      "cell_type": "code",
      "execution_count": null,
      "metadata": {
        "id": "i6uOVB44300a"
      },
      "outputs": [],
      "source": [
        "%cd BPL_CHO_Perfusion_cspr"
      ]
    },
    {
      "cell_type": "markdown",
      "metadata": {
        "id": "dsjD0XLpQysI"
      },
      "source": [
        "# BPL CHO Perfusion cspr openloop - demo\n",
        "Author: Jan Peter Axelsson\n",
        "\n",
        "This notebook is about CHO perfusion cultivation and focus on the concept of Cell Specific Perfusion Rate (CSPR).  Recombinant protein production is included in the model but not shown in the diagrams here.\n",
        "\n",
        "The model used here was orignally developed and validated for fed-batch cultivation of CHO cultures [1], but also got some influence from perfusion cultivation [2]. The model emphasize the bottlenecks of metabolism and growth and inspired from similar models of microbial cultures. One interesting aspect is that the model brings a theoretical base for the usefulness of the CSPR concept often used experimentally [4] and [5]. The results of simulation shown here are in accordance with experiments in a qualititative way, howerver not tested more quantitatively, to the authors knowledge.\n",
        "\n",
        "The main result is that when the perfusion rate should be increased from one set-point to another, it should be changed slowly. An abrupt step-wise increase should be avoided. A slow increase in the pefusion rate minimize the risk of unnecessary by-product formation of lactate and amonia and make the culture increase in cell concentration quicker to a new steady-state compared to a step-wise perfusion rate change. The rate of change of perfusion rate should not exceed the maximal culture growth rate.\n",
        "\n",
        "The strategy to limit rate of change of perfusion rate is much more important for mammalian cultures than for microbial cultures. The reason is that mammalian cell cutures increase in cell density after an inrease in perfusion rate, while mibrobial cultures remains constant in cell density.  This difference is most likely due to the fact that maintenance metabolism is a larger part in mammalian cultures and at higher growth rates the percentage of maintenance becomes smaller and the overall yield increase, while microbial cultures has a much more contsant yield over a broad range of growth rates. These ideas are discussed in section 2.2 in [3], together with other insights into perfusion cultivation obtained from simulation studies of the current model.\n",
        "\n",
        "Once again, it would be good to compare simulations with relevant experimental data from perfusion cultivation. Hopefully, the material presented here can stimulate work in this direction.\n",
        "\n",
        "\n"
      ]
    },
    {
      "cell_type": "markdown",
      "metadata": {
        "id": "jHxn0t2R1zmT"
      },
      "source": [
        "## Setup of the simulation model"
      ]
    },
    {
      "cell_type": "code",
      "execution_count": null,
      "metadata": {
        "id": "b-y82jZY33cO"
      },
      "outputs": [],
      "source": [
        "run -i BPL_CHO_perfusion_cspr_openloop_explore.py"
      ]
    },
    {
      "cell_type": "code",
      "execution_count": null,
      "metadata": {
        "id": "HUFhuE-H4RCw"
      },
      "outputs": [],
      "source": [
        "%matplotlib inline\n",
        "plt.rcParams['figure.figsize'] = [25/2.54, 20/2.54]"
      ]
    },
    {
      "cell_type": "markdown",
      "metadata": {
        "id": "dx9oMnP0RJkM"
      },
      "source": [
        "## About the process model\n",
        "Here a process diagram is shown of the process. Further information about the culutre stored in the model code is extracted."
      ]
    },
    {
      "cell_type": "code",
      "execution_count": null,
      "metadata": {
        "id": "3P0yJq2W8Ca6"
      },
      "outputs": [],
      "source": [
        "process_diagram()"
      ]
    },
    {
      "cell_type": "code",
      "execution_count": null,
      "metadata": {
        "id": "-Y3NHWIj4TZ6"
      },
      "outputs": [],
      "source": [
        "describe('culture'); print(); #describe('liquidphase')"
      ]
    },
    {
      "cell_type": "markdown",
      "metadata": {
        "id": "LIjujJu9vqLn"
      },
      "source": [
        "## Simulaton study\n",
        "The simulations are run with default parameters from [1]. The parameters for the change of perfusion rate is done here. The parameter mu_ref gives the rate of increase in [1/h]. With the value mu_ref=1 you get an abrupt step directly to the set-point. The parameters F1 and F2 give the flow rate [L/h] before and after the change. The corresponding time parameters t1 and t2 are given by default."
      ]
    },
    {
      "cell_type": "code",
      "execution_count": null,
      "metadata": {
        "id": "ypXmCF08vsEs"
      },
      "outputs": [],
      "source": [
        "newplot('Perfusion cultivation', plotType='Extended')\n",
        "\n",
        "par(samplePeriod=1); par(F1=0.0020, F2=0.030)    # General parameters\n",
        "par(mu_ref=0.04); simu()                         # First simulation (solid)\n",
        "par(mu_ref=1); simu()                            # Second simulation (dashed)"
      ]
    },
    {
      "cell_type": "markdown",
      "metadata": {
        "id": "3UzxrhzRv7DB"
      },
      "source": [
        "We see here the shorter settling time for cell conc Xv when the slower exponential increase of perfusion rate is used, compared to an abrupt change.\n",
        "\n",
        "The different sets of parameters that can be changed are shown below"
      ]
    },
    {
      "cell_type": "code",
      "execution_count": null,
      "metadata": {
        "id": "qN1Cq2MM1zmV"
      },
      "outputs": [],
      "source": [
        "disp(mode='long')"
      ]
    },
    {
      "cell_type": "markdown",
      "metadata": {
        "id": "V1SzMKo51zmV"
      },
      "source": [
        "Some other important parameters for information, but cannot be changed."
      ]
    },
    {
      "cell_type": "code",
      "execution_count": null,
      "metadata": {
        "id": "stxy2Md01zmW"
      },
      "outputs": [],
      "source": [
        "describe('bioreactor.broth_decay.k_decay')"
      ]
    },
    {
      "cell_type": "code",
      "execution_count": null,
      "metadata": {
        "id": "mXk974Tz1zmW"
      },
      "outputs": [],
      "source": [
        "describe('k_lysis')"
      ]
    },
    {
      "cell_type": "markdown",
      "metadata": {
        "id": "ETxwlZY11zmW"
      },
      "source": [
        "Now a new simulation where the flow rate F1 is higher before change to the new set-point F2."
      ]
    },
    {
      "cell_type": "code",
      "execution_count": null,
      "metadata": {
        "id": "5JzLHuRQv2Rz"
      },
      "outputs": [],
      "source": [
        "newplot('Perfusion cultivation', plotType='Extended')\n",
        "\n",
        "par(samplePeriod=1); par(F1=0.0080, F2=0.03)      # General parameters\n",
        "par(mu_ref=0.04); simu()                          # First simulation (solid)\n",
        "par(mu_ref=1); simu()                             # Second simulation (dashed)"
      ]
    },
    {
      "cell_type": "markdown",
      "metadata": {
        "id": "E2eu7VQjwBg9"
      },
      "source": [
        "We see that a somewhat smaller change in perfusion rate make the differnce in settling time of Xv for the two strategies to almost disappear."
      ]
    },
    {
      "cell_type": "markdown",
      "metadata": {
        "id": "tEFf9HIF1zmW"
      },
      "source": [
        "## Summary\n",
        "The simulation study shows that a slow increase in the perfusion rate that match the maximal culture growth rate gives a quicker increase in cell density than an abrupt step-wise change of perfusion rate.\n",
        "\n",
        "The effect is more pronounced for a larger change of perfusion rate than for a smaller.\n",
        "\n",
        "Here the change of perfusion rate was done usering a pre-calculated exponential scheme, i.e. open-loop control. A more robust method would be to measure the cell concentration on-line and adjust the perfusion rate change to more exactly maintan constant CSPR.\n",
        "\n",
        "It is of interest to confirm the results with experimental data."
      ]
    },
    {
      "cell_type": "markdown",
      "metadata": {
        "id": "JOGwgdX21zmX"
      },
      "source": [
        "## References\n",
        "[1] Amribt, Z., Niu, H. and Bogaerts P.: \"Macroscopic modelling of overflow metabolism and model based optimization of hybridoma cell fed-batch cultures.\", Biochem. Eng. Journal, 2013.\n",
        "\n",
        "[2] Niu,H., Amribt, Z., Fickers, P., Tan, W. and Bogaerts P.: \"Metabolic pathway analysis and reduction for mammalian cell cultures - towards macroscopic modelling\", Chem. Eng. Science, 2013.\n",
        "\n",
        "[3] Axelsson, J. P.: \"Simplified model of CHO-cultivation in Bioproces Library for Modelica - some experience\", conference paper 22nd NPCW Lyngby, Denmark, August 22-23, 2019.\n",
        "\n",
        "[4] Hu, W-S: \"Cell culture bioprocess engineering\", 2nd edition, CRC Press, 2020.\n",
        "\n",
        "[5] Konstantinov, K. et al: \"The push-to-low\" approach for optimization of high density perfusion cultures of animal cells\", Adv Biochem Engin/Biotechnol, 2006."
      ]
    },
    {
      "cell_type": "markdown",
      "metadata": {
        "id": "k3uyqcZ21zmX"
      },
      "source": [
        "## Appendix"
      ]
    },
    {
      "cell_type": "code",
      "execution_count": null,
      "metadata": {
        "id": "PvsHCc7qzYYc"
      },
      "outputs": [],
      "source": [
        "describe('parts')"
      ]
    },
    {
      "cell_type": "code",
      "execution_count": null,
      "metadata": {
        "id": "05Dfphpwzb-I"
      },
      "outputs": [],
      "source": [
        "describe('MSL')"
      ]
    },
    {
      "cell_type": "code",
      "execution_count": null,
      "metadata": {
        "id": "fr8YZScu7nNy"
      },
      "outputs": [],
      "source": [
        "system_info()"
      ]
    },
    {
      "cell_type": "code",
      "execution_count": null,
      "metadata": {
        "id": "FHx0NsS47ppj"
      },
      "outputs": [],
      "source": []
    },
    {
      "cell_type": "code",
      "execution_count": null,
      "metadata": {
        "id": "lyjeBC-rz2MA"
      },
      "outputs": [],
      "source": []
    }
  ],
  "metadata": {
    "colab": {
      "provenance": [],
      "include_colab_link": true
    },
    "kernelspec": {
      "display_name": "Python 3 (ipykernel)",
      "language": "python",
      "name": "python3"
    },
    "language_info": {
      "codemirror_mode": {
        "name": "ipython",
        "version": 3
      },
      "file_extension": ".py",
      "mimetype": "text/x-python",
      "name": "python",
      "nbconvert_exporter": "python",
      "pygments_lexer": "ipython3",
      "version": "3.10.14"
    }
  },
  "nbformat": 4,
  "nbformat_minor": 0
}