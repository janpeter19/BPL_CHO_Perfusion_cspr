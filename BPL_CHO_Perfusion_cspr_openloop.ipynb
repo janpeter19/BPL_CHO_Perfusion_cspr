{
 "cells": [
  {
   "cell_type": "markdown",
   "metadata": {},
   "source": [
    "# BPL CHO Perfusion cspr openloop - demo\n",
    "This notebook is about CHO perfusion cultivation and focus on the concept of Cell \n",
    "Specific Perfusion Rate (CSPR).  Recombinant protein production is included in the model but not \n",
    "shown in the diagrams here.\n",
    "\n",
    "The model used here was orignally developed and validated for fed-batch cultivation of CHO cultures [1], \n",
    "but also got some influence from perfusion cultivation [2]. The model emphasize the bottlenecks of metabolism \n",
    "and growth and inspired from similar models of microbial cultures. One interesting aspect is that the model \n",
    "brings a theoretical base for the usefulness of the CSPR concept often used experimentally [4] and [5]. \n",
    "The results of simulation shown here are in accordance with experiments in a qualititative way, \n",
    "howerver not tested more quantitatively, to the authors knowledge. \n",
    "\n",
    "The main result is that when the perfusion rate should be increased from one set-point to another, \n",
    "it should be changed slowly. An abrupt step-wise increase should be avoided. A slow increase in \n",
    "the pefusion rate minimize the risk of unnecessary by-product formation of lactate and amonia and \n",
    "make the culture increase in cell concentration quicker to a new steady-state compared to a step-wise \n",
    "perfusion rate change. The rate of change of perfusion rate should not exceed the maximal culture growth rate. \n",
    "\n",
    "The strategy to limit rate of change of perfusion rate is much more important for mammalian cultures \n",
    "than for microbial cultures. The reason is that mammalian cell cutures increase in cell density after \n",
    "an inrease in perfusion rate, while mibrobial cultures remains constant in cell density.  This difference \n",
    "is most likely due to the fact that maintenance metabolism is a larger part in mammalian cultures and \n",
    "at higher growth rates the percentage of maintenance becomes smaller and the overall yield increase, \n",
    "while microbial cultures has a much more contsant yield over a broad range of growth rates. \n",
    "These ideas are discussed in section 2.2 in [3], together with other insights into perfusion cultivation \n",
    "obtained from simulation studies of the current model.\n",
    "\n",
    "Once again, it would be good to compare simulations with relevant experimental data from perfusion cultivation. \n",
    "Hopefully, the material presented here can stimulate work in this direction."
   ]
  },
  {
   "cell_type": "markdown",
   "metadata": {},
   "source": [
    "## Setup of the simulation model"
   ]
  },
  {
   "cell_type": "code",
   "execution_count": 1,
   "metadata": {},
   "outputs": [
    {
     "ename": "ModuleNotFoundError",
     "evalue": "No module named 'pyfmi'",
     "output_type": "error",
     "traceback": [
      "\u001b[1;31m---------------------------------------------------------------------------\u001b[0m",
      "\u001b[1;31mModuleNotFoundError\u001b[0m                       Traceback (most recent call last)",
      "File \u001b[1;32m\\\\VBoxSvr\\Modelica\\GitHub\\Colab\\BPL_CHO_Perfusion_cspr\\BPL_CHO_perfusion_cspr_openloop_explore.py:68\u001b[0m\n\u001b[0;32m     65\u001b[0m \u001b[38;5;28;01mimport\u001b[39;00m\u001b[38;5;250m \u001b[39m\u001b[38;5;21;01mmatplotlib\u001b[39;00m\u001b[38;5;21;01m.\u001b[39;00m\u001b[38;5;21;01mimage\u001b[39;00m\u001b[38;5;250m \u001b[39m\u001b[38;5;28;01mas\u001b[39;00m\u001b[38;5;250m \u001b[39m\u001b[38;5;21;01mimg\u001b[39;00m\n\u001b[0;32m     66\u001b[0m \u001b[38;5;28;01mimport\u001b[39;00m\u001b[38;5;250m \u001b[39m\u001b[38;5;21;01mzipfile\u001b[39;00m \n\u001b[1;32m---> 68\u001b[0m \u001b[38;5;28;01mfrom\u001b[39;00m\u001b[38;5;250m \u001b[39m\u001b[38;5;21;01mpyfmi\u001b[39;00m\u001b[38;5;250m \u001b[39m\u001b[38;5;28;01mimport\u001b[39;00m load_fmu\n\u001b[0;32m     69\u001b[0m \u001b[38;5;28;01mfrom\u001b[39;00m\u001b[38;5;250m \u001b[39m\u001b[38;5;21;01mpyfmi\u001b[39;00m\u001b[38;5;21;01m.\u001b[39;00m\u001b[38;5;21;01mfmi\u001b[39;00m\u001b[38;5;250m \u001b[39m\u001b[38;5;28;01mimport\u001b[39;00m FMUException\n\u001b[0;32m     71\u001b[0m \u001b[38;5;28;01mfrom\u001b[39;00m\u001b[38;5;250m \u001b[39m\u001b[38;5;21;01mitertools\u001b[39;00m\u001b[38;5;250m \u001b[39m\u001b[38;5;28;01mimport\u001b[39;00m cycle\n",
      "\u001b[1;31mModuleNotFoundError\u001b[0m: No module named 'pyfmi'"
     ]
    }
   ],
   "source": [
    "run -i BPL_CHO_perfusion_cspr_openloop_explore.py"
   ]
  },
  {
   "cell_type": "code",
   "execution_count": 2,
   "metadata": {},
   "outputs": [],
   "source": [
    "# Set the size of diagrams\n",
    "plt.rcParams['figure.figsize'] = [30/2.54, 24/2.54]"
   ]
  },
  {
   "cell_type": "markdown",
   "metadata": {},
   "source": [
    "## About the process model\n",
    "Here a process diagram is shown of the process. Further information about the culutre stored in the model code is extracted.\n"
   ]
  },
  {
   "cell_type": "code",
   "execution_count": 3,
   "metadata": {},
   "outputs": [
    {
     "ename": "NameError",
     "evalue": "name 'process_diagram' is not defined",
     "output_type": "error",
     "traceback": [
      "\u001b[1;31m---------------------------------------------------------------------------\u001b[0m",
      "\u001b[1;31mNameError\u001b[0m                                 Traceback (most recent call last)",
      "Cell \u001b[1;32mIn[3], line 1\u001b[0m\n\u001b[1;32m----> 1\u001b[0m \u001b[43mprocess_diagram\u001b[49m()\n",
      "\u001b[1;31mNameError\u001b[0m: name 'process_diagram' is not defined"
     ]
    }
   ],
   "source": [
    "process_diagram()"
   ]
  },
  {
   "cell_type": "code",
   "execution_count": null,
   "metadata": {},
   "outputs": [],
   "source": [
    "describe('culture'); print(); describe('broth')"
   ]
  },
  {
   "cell_type": "markdown",
   "metadata": {},
   "source": [
    "## Simulaton study\n",
    "The simulations are run with default parameters from [1]. The parameters for the change of perfusion rate is done here. The parameter mu_ref gives the rate of increase in [1/h]. With the value mu_ref=1 you get an abrupt step directly to the set-point. The parameters F1 and F2 give the flow rate [L/h] before and after the change. The corresponding time parameters t1 and t2 are given by default."
   ]
  },
  {
   "cell_type": "code",
   "execution_count": null,
   "metadata": {},
   "outputs": [],
   "source": [
    "newplot('Perfusion cultivation', plotType='Extended')\n",
    "\n",
    "par(samplePeriod=1); par(F1=0.0020, F2=0.030)      # General parameters \n",
    "par(mu_ref=0.04); simu()                           # First simulation (solid)       \n",
    "par(mu_ref=1); simu()                              # Second simulation (dashed)    "
   ]
  },
  {
   "cell_type": "markdown",
   "metadata": {},
   "source": [
    "We see here the shorter settling time for cell conc Xv when the slower exponential increase of perfusion rate is used, compared to an abrupt change.\n",
    "\n",
    "The different sets of parameters that can be changed are shown below"
   ]
  },
  {
   "cell_type": "code",
   "execution_count": null,
   "metadata": {},
   "outputs": [],
   "source": [
    "disp(mode='long')"
   ]
  },
  {
   "cell_type": "markdown",
   "metadata": {},
   "source": [
    "Some other important parameters for information, but cannot be changed"
   ]
  },
  {
   "cell_type": "code",
   "execution_count": null,
   "metadata": {},
   "outputs": [],
   "source": [
    "describe('bioreactor.broth_decay.k_decay')"
   ]
  },
  {
   "cell_type": "code",
   "execution_count": null,
   "metadata": {},
   "outputs": [],
   "source": [
    "describe('k_lysis_d')"
   ]
  },
  {
   "cell_type": "markdown",
   "metadata": {},
   "source": [
    "Now a new simulation where the flow rate F1 is higher before change to the new set-point F2. "
   ]
  },
  {
   "cell_type": "code",
   "execution_count": null,
   "metadata": {},
   "outputs": [],
   "source": [
    "newplot('Perfusion cultivation', plotType='Extended')\n",
    "\n",
    "par(samplePeriod=1); par(F1=0.0080, F2=0.03)       # General parameters \n",
    "par(mu_ref=0.04); simu()                           # First simulation (solid)       \n",
    "par(mu_ref=1); simu()                              # Second simulation (dashed)  "
   ]
  },
  {
   "cell_type": "markdown",
   "metadata": {},
   "source": [
    "We see that a somewhat smaller change in perfusion rate make the differnce in settling time of Xv for the two strategies to almost disappear."
   ]
  },
  {
   "cell_type": "markdown",
   "metadata": {},
   "source": [
    "## Summary\n",
    "The simulation study shows that a slow increase in the perfusion rate that match the maximal culture growth rate gives a quicker increase in cell density than an abrupst step-wise change of perfusion rate.\n",
    "\n",
    "The effect is more pronounced for a larger change of perfusion rate than for a smaller. \n",
    "\n",
    "Here the change of perfusion rate was done usering a pre-calculated exponential scheme, i.e. open-loop control. A more robust method would be to measure the cell concentration on-line and adjust the perfusion rate change to more exactly maintan constant CSPR.\n",
    "\n",
    "It is of interest to confirm the results with experimental data."
   ]
  },
  {
   "cell_type": "markdown",
   "metadata": {},
   "source": [
    "## References\n",
    "[1] Amribt, Z., Niu, H. and Bogaerts P.: \"Macroscopic modelling of overflow metabolism and model based optimization of hybridoma cell fed-batch cultures.\", Biochem. Eng. Journal, 2013.\n",
    "\n",
    "[2] Niu,H., Amribt, Z., Fickers, P., Tan, W. and Bogaerts P.: \"Metabolic pathway analysis and reduction for mammalian cell cultures - towards macroscopic modelling\", Chem. Eng. Science, 2013.\n",
    "\n",
    "[3] Axelsson, J. P.: \"Simplified model of CHO-cultivation in Bioproces Library for Modelica - some experience\", conference paper 22nd NPCW Lyngby, Denmark, August 22-23, 2019.\n",
    "\n",
    "[4] Hu, W-S: \"Cell culture bioprocess engineering\", 2nd edition, CRC Press, 2020.\n",
    "\n",
    "[5] Konstantinov, K. et al: \"The push-to-low\" approach for optimization of high density perfusion cultures of animal cells\", Adv Biochem Engin/Biotechnol, 2006."
   ]
  },
  {
   "cell_type": "markdown",
   "metadata": {},
   "source": [
    "## Appendix"
   ]
  },
  {
   "cell_type": "code",
   "execution_count": null,
   "metadata": {},
   "outputs": [],
   "source": [
    "describe('parts')"
   ]
  },
  {
   "cell_type": "code",
   "execution_count": null,
   "metadata": {},
   "outputs": [],
   "source": [
    "describe('MSL')"
   ]
  },
  {
   "cell_type": "code",
   "execution_count": null,
   "metadata": {},
   "outputs": [],
   "source": [
    "system_info()"
   ]
  },
  {
   "cell_type": "code",
   "execution_count": null,
   "metadata": {},
   "outputs": [],
   "source": []
  }
 ],
 "metadata": {
  "kernelspec": {
   "display_name": "Python 3 (ipykernel)",
   "language": "python",
   "name": "python3"
  },
  "language_info": {
   "codemirror_mode": {
    "name": "ipython",
    "version": 3
   },
   "file_extension": ".py",
   "mimetype": "text/x-python",
   "name": "python",
   "nbconvert_exporter": "python",
   "pygments_lexer": "ipython3",
   "version": "3.12.8"
  }
 },
 "nbformat": 4,
 "nbformat_minor": 4
}
